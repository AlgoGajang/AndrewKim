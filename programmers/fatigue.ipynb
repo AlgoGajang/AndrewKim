{
 "cells": [
  {
   "cell_type": "markdown",
   "metadata": {},
   "source": [
    "피로도\n",
    "\n",
    "1. 던전 조합 구성. \n",
    "\n",
    "처음에 멱집합 중에서 갯수 똑같은거로 생각했는데, 멱집합에서 갯수 똑같은 집합은 하나지. 말그대로 '집합'이니까. 그래서 생각해보니까 이건 순열이지. 예를 들어서, [1, 2, 3] 이 경우로 생각해보자.\n",
    "\n",
    "[[1, 2, 3],[1, 3, 2],[2, 1, 3],[2, 3, 1],[3, 1, 2],[3, 2, 1]] \n",
    "\n",
    "요런식으로 구성되도록 하는게 목표. 시간복잡도는 $n!$ 정도 되겠네. 근데 던전 갯수가 8개라서 8! 계산해도 40320개 경우의 수면 할만할거 같은데. 근데 그렇다고 반복문 그냥 때려박으면 안될거같고 재귀 써야될거 같은데... JS로는 잘 안되는데 일단 파이썬으로 해보자..."
   ]
  },
  {
   "cell_type": "code",
   "execution_count": null,
   "metadata": {},
   "outputs": [],
   "source": []
  },
  {
   "cell_type": "markdown",
   "metadata": {},
   "source": []
  }
 ],
 "metadata": {
  "kernelspec": {
   "display_name": "Python 3.8.8 ('base')",
   "language": "python",
   "name": "python3"
  },
  "language_info": {
   "codemirror_mode": {
    "name": "ipython",
    "version": 3
   },
   "file_extension": ".py",
   "mimetype": "text/x-python",
   "name": "python",
   "nbconvert_exporter": "python",
   "pygments_lexer": "ipython3",
   "version": "3.8.8"
  },
  "orig_nbformat": 4,
  "vscode": {
   "interpreter": {
    "hash": "842fcbab6f8b2e7ab180194bf63aeb5bc0c7a4f79325a6b05480df53dd555ba2"
   }
  }
 },
 "nbformat": 4,
 "nbformat_minor": 2
}
