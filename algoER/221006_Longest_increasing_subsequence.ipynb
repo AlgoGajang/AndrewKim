{
 "cells": [
  {
   "cell_type": "markdown",
   "metadata": {},
   "source": [
    "## 221006 Longest Increasing Subsequence (Leetcode)\n",
    "- 전체 배열에서 sequential하게 순수 증가하는 가장 긴 부분집합?(subsequence) 구하기.\n",
    "\n",
    "\n",
    "### 최초 접근\n",
    "- 최소값이랑 그 index, 최대값이랑 그 index 구하기.\n",
    "- 최대값이랑 최대값 사이 반복문 돌려서 최소값하고 그 사이 값들 비교해서 증가하는 경우만 카운팅.\n",
    "\n",
    "### 오류 1\n",
    "최대값 index가 하나가 아닐 수 있다.\n",
    "> 삽질 1\n",
    "> - 마지막 최대값을 갖는 index 저장해놓고, 그 중간에 나오는 최대값 index는 해당 index를 pass하도록 pass index 리스트 만들어서 값 비교하고 카운팅 할 때 해당 index는 피하도록.\n",
    "\n",
    "### 오류 2\n",
    "최대값 index가 최소값보다 더 앞에 위치할 수 있음.\n",
    "> 삽질 2\n",
    "> - 처리하는 배열을 최대값 index 제외하고 그 최대값 index+1부터 시작하는 새로운 배열 만들어서 최초접근에서 하려던 작업 그대로\n",
    "\n",
    "### 오류 3\n",
    "최소값 근처에 적당히 큰(?) 값이 있어서 그 적당히 큰 값과 최대값 사이 값이 무시될 수 있다. (약간 local maximum같은 느낌?)\n",
    "> 삽질 3\n",
    "> - 아직 해결 못함...\n"
   ]
  },
  {
   "cell_type": "code",
   "execution_count": null,
   "metadata": {},
   "outputs": [],
   "source": [
    "class Solution:\n",
    "    def lengthOfLIS(self, nums: List[int]) -> int:\n",
    "        valid_nums = nums[0:len(nums)]\n",
    "        min_val = min(nums)\n",
    "        max_val = max(nums)\n",
    "        min_ind = nums.index(min_val)\n",
    "        max_ind = nums.index(max_val)\n",
    "        while max_ind < min_ind:\n",
    "            valid_nums = valid_nums[max_ind+1:len(valid_nums)]\n",
    "            max_val = max(valid_nums)\n",
    "            min_ind = valid_nums.index(min_val)\n",
    "            max_ind = valid_nums.index(max_val)\n",
    "        \n",
    "        pass_ind_li = []\n",
    "        for i in range(max_ind+1, len(valid_nums)):\n",
    "            if nums[i] == max_val:\n",
    "                pass_ind_li.append(max_ind)\n",
    "                max_ind = i\n",
    "        if len(pass_ind_li) != 0:\n",
    "            pass_ind = pass_ind_li.pop(0)\n",
    "        else:\n",
    "            pass_ind = None\n",
    "            \n",
    "        li = [min_val, max_val]\n",
    "        comp = min_val\n",
    "        count = 1\n",
    "        for i in range(min_ind+1, max_ind+1):\n",
    "            if pass_ind and i == pass_ind:\n",
    "                if len(pass_ind_li) != 0:\n",
    "                    pass_ind = pass_ind_li.pop(0)\n",
    "                continue\n",
    "            if valid_nums[i] > comp:\n",
    "                count += 1\n",
    "                comp = valid_nums[i]\n",
    "        return count\n",
    "                "
   ]
  },
  {
   "cell_type": "markdown",
   "metadata": {},
   "source": [
    "### Solution\n",
    "\n",
    "재귀로 한 번 풀고 > DP 문제로 다시 한 번 푼대\n",
    "\n",
    "1. Brute Force - DFS 이용.\n",
    "결국 배열 안에 있는 숫자를 쓰느냐 쓰지 않느냐에 따라 바뀌는 거니까. 그럼 시간복잡도는 $2^{n}$ 되겠지. 노답이네...\n",
    "2. DFS 쓰긴 쓰는데 Cache 사용.\n",
    "DFS 쓰는데, 앞에서 되는 조합은 계속 사용할 수 있는데, 안되는 조합은 어떻게 기억(캐싱)해놨다가 다른 줄기에서 사용.\n",
    "3. DP 사용\n",
    "첫 숫자부터 시작하는게 아니고 마지막 숫자부터 시작해서 첫 번째 요소까지 역으로 찾아가는 방식"
   ]
  },
  {
   "cell_type": "code",
   "execution_count": null,
   "metadata": {},
   "outputs": [],
   "source": [
    "class Solution:\n",
    "    def lengthOfLIS(self, nums: List[int]) -> int:\n",
    "        LIS = [1] * len(nums)\n",
    "\n",
    "        for i in range(len(nums) - 1, - 1, -1):\n",
    "            for j in range(i + 1, len(nums)):\n",
    "                if nums[i] < nums[j]:\n",
    "                    LIS[i] = max(LIS[i], 1 + LIS[j])\n",
    "        return max(LIS)"
   ]
  }
 ],
 "metadata": {
  "kernelspec": {
   "display_name": "Python 3.8.8 ('base')",
   "language": "python",
   "name": "python3"
  },
  "language_info": {
   "name": "python",
   "version": "3.8.8"
  },
  "orig_nbformat": 4,
  "vscode": {
   "interpreter": {
    "hash": "842fcbab6f8b2e7ab180194bf63aeb5bc0c7a4f79325a6b05480df53dd555ba2"
   }
  }
 },
 "nbformat": 4,
 "nbformat_minor": 2
}
