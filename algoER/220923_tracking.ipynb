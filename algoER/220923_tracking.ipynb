{
 "cells": [
  {
   "cell_type": "markdown",
   "metadata": {},
   "source": [
    "220923 등산 코스 정하기(프로그래머스)\n",
    "- 등산코스 1~n까지 지점. 출입구, 쉼터, 산봉우리 중 하나. 지점 지날때 등산로 이용.\n",
    "- 처음과 끝은 같아야하고 중간에 산봉우리 하나 포함되어야.\n",
    "- 출입구 당연히 여러개일 수 있고 등산 중간에 처음 출발한 지점 말고 다른 출입구를 이용할 수는 없음.\n",
    "- intensity가 등산로 중 가장 빡센 코스 가는데 걸리는 시간. intensity가 가장 작게 되는 산봉우리랑 intensity값 반환하기 \n",
    "- intensity가 같다면 산봉우리의 번호 낮은 코스 \n",
    "\n",
    "최초 접근\n",
    "- summit 기준으로 생각해보자.\n",
    "- 다시... 경우의 수 다시 따져보자.\n",
    "1. 1 > 2\n",
    "2. 1 > 2 > 3 / 1 > 2 > 4 / 1 > 2 > 5 여기서 3번이 다른 게이트라서 3번 가는 코스는 제외\n",
    "3. 1 > 2 > 4 > 2 / 1 > 2 > 4 > 3 / 1 > 2 > 4 > 5 / 1 > 2 > 4 > 6 / 1 > 2 > 5 > 2 / 1 > 2 > 5 > 4 / 1 > 2 > 5 > 6\n",
    "4.\n",
    "    "
   ]
  },
  {
   "cell_type": "code",
   "execution_count": null,
   "metadata": {},
   "outputs": [],
   "source": [
    "def solution(n, paths, gates, summits):\n",
    "    # 등산코스 1~n까지 지점. 출입구, 쉼터, 산봉우리 중 하나. 지점 지날때 등산로 이용.\n",
    "    # 처음과 끝은 같아야하고 중간에 산봉우리 하나 포함되어야.\n",
    "    # 출입구 당연히 여러개일 수 있고 등산 중간에 처음 출발한 지점 말고 다른 출입구를 이용할 수는 없음.\n",
    "    # intensity가 등산로 중 가장 빡센 코스 가는데 걸리는 시간. intensity가 가장 작게 되는 산봉우리랑 intensity값 반환하기 \n",
    "    # intensity가 같다면 산봉우리의 번호 낮은 코스 \n",
    "    # summit 기준으로 생각해보자.\n",
    "    for summit in summits:\n",
    "        base = [[summit]]\n",
    "        temp_path = []\n",
    "        for path in paths:\n",
    "            if path[0] == summit or path[1] == summit:\n",
    "                temp_path.append(path)    \n",
    "    \n",
    "    answer = []\n",
    "    return answer"
   ]
  }
 ],
 "metadata": {
  "kernelspec": {
   "display_name": "Python 3.8.8 ('base')",
   "language": "python",
   "name": "python3"
  },
  "language_info": {
   "name": "python",
   "version": "3.8.8"
  },
  "orig_nbformat": 4,
  "vscode": {
   "interpreter": {
    "hash": "842fcbab6f8b2e7ab180194bf63aeb5bc0c7a4f79325a6b05480df53dd555ba2"
   }
  }
 },
 "nbformat": 4,
 "nbformat_minor": 2
}
