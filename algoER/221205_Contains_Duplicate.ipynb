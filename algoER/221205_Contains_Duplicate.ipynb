{
 "cells": [
  {
   "cell_type": "markdown",
   "metadata": {},
   "source": [
    "## 221205 Contains Duplicate (Leetcode)\n",
    "- 주어진 정수 배열에서 중복 되는 요소가 있으면 True를 반환, 중복되는 요소가 없다면 False를 반환.\n",
    "\n",
    "\n",
    "### 최초 접근\n",
    "- Hash라는 카테고리에서 시작해서 사실상 힌트 본거나 마찬가지긴 함...\n",
    "- Python으로 수행했으니 Dictionary 자료형 사용하는게 편할 것이라 판단. 반복문 돌려서 요소 2개 이상 나오게 되면 해당 Key에 해당하는 Value 값을 1씩 더해주는 식으로? 수행 하면 될 듯. \n",
    "### 오류 1\n",
    "역시 Dictionary 타입을 많이 안써봐서 익숙치 않은 문제... Dictionary 내부에 Key값 추가하지 않고 그냥 indexing하다보니 당연히 오류 생기지...\n",
    "> 삽질 1\n",
    "> - 값 더해주는게 아니라 그냥 배열 내부의 정수값을 Key로 갖는 Key:Value 세트만 만들도록 하니, 중복 요소 나올 때 Dictionary 전체 길이가 이전 길이와 똑같아지네... 이거 이용하면 되겠다. Len 메서드 이용해서 길이 구함."
   ]
  },
  {
   "cell_type": "code",
   "execution_count": null,
   "metadata": {},
   "outputs": [],
   "source": [
    "class Solution:\n",
    "    def containsDuplicate(self, nums: List[int]) -> bool:\n",
    "        temp = {}\n",
    "        prevLen = 0\n",
    "        for i in nums:\n",
    "            temp[i] = 1\n",
    "            nextLen = len(temp)\n",
    "            if prevLen == nextLen:\n",
    "                return True\n",
    "            prevLen = nextLen\n",
    "        return False"
   ]
  }
 ],
 "metadata": {
  "kernelspec": {
   "display_name": "Python 3.8.8 ('base')",
   "language": "python",
   "name": "python3"
  },
  "language_info": {
   "name": "python",
   "version": "3.8.8"
  },
  "orig_nbformat": 4,
  "vscode": {
   "interpreter": {
    "hash": "842fcbab6f8b2e7ab180194bf63aeb5bc0c7a4f79325a6b05480df53dd555ba2"
   }
  }
 },
 "nbformat": 4,
 "nbformat_minor": 2
}
