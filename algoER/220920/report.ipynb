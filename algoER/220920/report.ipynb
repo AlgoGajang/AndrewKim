{
 "cells": [
  {
   "cell_type": "markdown",
   "metadata": {},
   "source": [
    "220920 신고결과 받기 (프로그래머스)\n",
    "- 한 번에 한 유저 신고 가능\n",
    "- 신고 횟수에 제한은 없지만 동일 유저에 대한 1회 이상의 신고 횟수는 1회로 처리됨\n",
    "- k번 이상 신고된 유저는 정지.\n",
    "- 정지된 유저를 신고한 유저에게 정지 안내 메일 발송\n",
    "\n",
    "딕셔너리 사용하자. 유저 아이디를 key로 하고 신고한 아이디를 요소로 갖는 배열을 value로. report 배열에서 각 요소의 공백 뒤 아이디를 value의 배열 안에 넣는걸로\n",
    "\n",
    "처음에 딕셔너리 만들때 두개 만드는? 하나는 처음 생각한대로 하고 나머지 하나는 첫번째에서 꺼내올때 신고 횟수 저장하는 딕셔너리로.\n",
    "\n",
    "신고 횟수 딕셔너리로 반복문 돌려서 result 배열에 결과 넣는걸로\n"
   ]
  },
  {
   "cell_type": "code",
   "execution_count": 5,
   "metadata": {},
   "outputs": [
    {
     "name": "stdout",
     "output_type": "stream",
     "text": [
      "['muzi', 'frodo']\n",
      "['apeach', 'frodo']\n",
      "['frodo', 'neo']\n",
      "['muzi', 'neo']\n",
      "['apeach', 'muzi']\n",
      "0\n"
     ]
    }
   ],
   "source": [
    "import copy\n",
    "\n",
    "def solution(id_list, report, k):\n",
    "    report_main = {}\n",
    "    for name in id_list:\n",
    "        report_main[name] = []\n",
    "    report_num = copy.deepcopy(report_main)\n",
    "    \n",
    "    for elem in report:\n",
    "        temp = elem.split(' ')\n",
    "    \n",
    "    return 0;\n",
    "\n",
    "id_list = [\"muzi\", \"frodo\", \"apeach\", \"neo\"]\t\n",
    "report = [\"muzi frodo\",\"apeach frodo\",\"frodo neo\",\"muzi neo\",\"apeach muzi\"]\n",
    "k = 2\n",
    "print(solution(id_list, report, k))"
   ]
  }
 ],
 "metadata": {
  "kernelspec": {
   "display_name": "Python 3.8.8 ('base')",
   "language": "python",
   "name": "python3"
  },
  "language_info": {
   "codemirror_mode": {
    "name": "ipython",
    "version": 3
   },
   "file_extension": ".py",
   "mimetype": "text/x-python",
   "name": "python",
   "nbconvert_exporter": "python",
   "pygments_lexer": "ipython3",
   "version": "3.8.8"
  },
  "orig_nbformat": 4,
  "vscode": {
   "interpreter": {
    "hash": "842fcbab6f8b2e7ab180194bf63aeb5bc0c7a4f79325a6b05480df53dd555ba2"
   }
  }
 },
 "nbformat": 4,
 "nbformat_minor": 2
}
