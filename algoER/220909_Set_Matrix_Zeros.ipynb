{
 "cells": [
  {
   "cell_type": "markdown",
   "metadata": {},
   "source": [
    "## 220909 Set Matrix Zeros (LeetCode)\n",
    "- 행렬 주어짐. 행렬 순회하다가 0 발견하면 0이 위치한 행과 열에 있는 숫자 모두 0으로 만들기.\n",
    "\n",
    "\n",
    "### 최초 접근\n",
    "- 일단 2차원 행렬이니까 중첩 반복문 구성해서 순회. \n",
    "- 행렬이니까 첫 번째 반복문 변수는 r(row)로 두고 두 번째 반복문 변수는 c(column)으로 두기.\n",
    "- 순회할때 조건문 이용. 조건은 배열 순회 인덱싱값이 0이면 해당 r, c 변수에 해당하는 행, 열 값을 모두 0으로 만드는 거. \n",
    "- 해당 행, 열의 성분들 0으로 만드는건 따로 함수로 만들기.\n",
    "- 함수 반환값은 행렬 반환하는걸로\n",
    "- 함수 실행은 조건문 내부로 진입하면 r, c 변수 넘겨주는걸로.\n",
    "\n",
    "근데 이렇게 계속 하면 시간복잡도 커질거 같은데... 숫자 바꿔주는건 좋은데 그 0으로 바꿔준 숫자들이 계속 순회 돌면서 계속 내부 함수 수행할거니까... 내부 함수에서 수치 바꿔줄때 0으로 바꿔주는거 말고 아예 다른 숫자로 바꿔주는건 어떨까? 음... 근데 내부 요소 숫자가 $-2^{31} < matrix[r][c] < 2^{31} - 1$로 주어져서... 바꿔줄거면 숫자 말고 문자로 바꿔주면 가능할지도?\n"
   ]
  }
 ],
 "metadata": {
  "kernelspec": {
   "display_name": "Python 3.8.8 ('base')",
   "language": "python",
   "name": "python3"
  },
  "language_info": {
   "name": "python",
   "version": "3.8.8"
  },
  "orig_nbformat": 4,
  "vscode": {
   "interpreter": {
    "hash": "842fcbab6f8b2e7ab180194bf63aeb5bc0c7a4f79325a6b05480df53dd555ba2"
   }
  }
 },
 "nbformat": 4,
 "nbformat_minor": 2
}
