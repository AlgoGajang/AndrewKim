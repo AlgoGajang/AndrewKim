{
 "cells": [
  {
   "cell_type": "markdown",
   "metadata": {},
   "source": [
    "## 220929 Missing number (LeetCode)\n",
    "- 빠진 숫자 찾기\n",
    "- 0부터 시작해서 n까지의 정수 배열에서 빠진 숫자 찾기. 0부터 n까지니까 갯수로는 n+1개인데 1개 숫자 빠지니까 항상 n개 숫자.\n",
    "- 그러니까 배열 갯수가 n이 되는\n",
    "\n",
    "\n",
    "### 최초 접근\n",
    "- 딕셔너리 만든 뒤에 검색? for문 2개 해서 돌려보자. 통과 되긴 되네... 효율성은 그닥 좋은거 같지 않은데...\n"
   ]
  },
  {
   "cell_type": "code",
   "execution_count": null,
   "metadata": {},
   "outputs": [],
   "source": [
    "class Solution:\n",
    "    def missingNumber(self, nums: List[int]) -> int:\n",
    "        hash_dict = {}\n",
    "        for i in range(len(nums)):\n",
    "            hash_dict[nums[i]] = 1\n",
    "        pos_count = 0\n",
    "        for i in range(len(nums) + 1):\n",
    "            try:\n",
    "                hash_dict[i]\n",
    "                pos_count += 1\n",
    "            except KeyError:\n",
    "                break\n",
    "        return pos_count"
   ]
  }
 ],
 "metadata": {
  "kernelspec": {
   "display_name": "Python 3.8.8 ('base')",
   "language": "python",
   "name": "python3"
  },
  "language_info": {
   "name": "python",
   "version": "3.8.8"
  },
  "orig_nbformat": 4,
  "vscode": {
   "interpreter": {
    "hash": "842fcbab6f8b2e7ab180194bf63aeb5bc0c7a4f79325a6b05480df53dd555ba2"
   }
  }
 },
 "nbformat": 4,
 "nbformat_minor": 2
}
