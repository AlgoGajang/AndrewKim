{
 "cells": [
  {
   "cell_type": "markdown",
   "metadata": {},
   "source": [
    "## 220930 Number of islands (LeetCode)\n",
    "- 2차원 배열에서 숫자 1이면 땅, 숫자 0이면 바다. 섬 갯수 구하기\n",
    "\n",
    "\n",
    "### 최초 접근\n",
    "- Graph문제라고 되어있는데 DFS나 BFS??\n",
    "\n",
    "### 해답\n",
    "- BFS 문제..."
   ]
  },
  {
   "cell_type": "code",
   "execution_count": null,
   "metadata": {},
   "outputs": [],
   "source": [
    "import collections\n",
    "\n",
    "class Solution:\n",
    "    def numIslands(self, grid: List[List[str]]) -> int:\n",
    "        if not grid:\n",
    "            return 0\n",
    "        \n",
    "        rows, cols = len(grid), len(grid[0])\n",
    "        visit = set()\n",
    "        islands = 0\n",
    "\n",
    "        def bfs(r, c):\n",
    "            q = collections.deque()\n",
    "            visit.add((r, c))\n",
    "            q.append((r, c))\n",
    "\n",
    "            while q:\n",
    "                row, col = q.popleft();\n",
    "                directions = [[1, 0], [-1, 0], [0, 1], [0, -1]]\n",
    "\n",
    "                for dr, dc in directions:\n",
    "                    r, c = row + dr, col + dc\n",
    "                    if (r in range(rows) and\n",
    "                        c in range(cols) and\n",
    "                        grid[r][c] == \"1\" and \n",
    "                        (r, c) not in visit):\n",
    "                        q.append((r, c))\n",
    "                        visit.add((r, c))\n",
    "\n",
    "        for r in range(rows):\n",
    "            for c in range(cols):\n",
    "                if grid[r][c] == \"1\" and (r, c) not in visit:\n",
    "                    bfs(r,c)\n",
    "                    islands += 1\n",
    "        return islands"
   ]
  }
 ],
 "metadata": {
  "kernelspec": {
   "display_name": "Python 3.8.8 ('base')",
   "language": "python",
   "name": "python3"
  },
  "language_info": {
   "name": "python",
   "version": "3.8.8"
  },
  "orig_nbformat": 4,
  "vscode": {
   "interpreter": {
    "hash": "842fcbab6f8b2e7ab180194bf63aeb5bc0c7a4f79325a6b05480df53dd555ba2"
   }
  }
 },
 "nbformat": 4,
 "nbformat_minor": 2
}
