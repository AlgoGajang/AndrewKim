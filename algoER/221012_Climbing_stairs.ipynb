{
 "cells": [
  {
   "cell_type": "markdown",
   "metadata": {},
   "source": [
    "## 221012 Climbing Stairs (Leetcode)\n",
    "- 전체 계단을 1칸 혹은 2칸씩 오를때 나올 수 있는 경우의 수 구하기\n",
    "\n",
    "\n",
    "### 최초 접근\n",
    "- 1칸씩 오를 때 ~ 2칸씩 오를 때 배열 만들어서 그 배열로 순열 or 조합 구하면 되지 않을까? 그 조합의 갯수 구해서 카운팅 하면 될거고.\n",
    "- 계단 갯수 $n$이 짝수일때랑 홀수일때 나눠서 해야될듯\n",
    "\n",
    "### 오류 1\n",
    "배열 요소가 1만 있을때나 2만 있을 때는 순열쓰면 제대로 경우의 수를 못 구함.\n",
    "> 삽질 1\n",
    "> - 배열 요소 1만 있을 때나 2만 있을 때는 순열 아니라 조합으로 변경\n",
    "\n",
    "### 오류 2\n",
    "실제 수학적 순열하고 우리가 그냥 생각하는 경우의 수는 다르다. \n",
    "> 삽질 2\n",
    "> - 순서가 같은 배열이 중복되어서 만들어지기 때문에 갯수 셀때는 2로 나눠서 카운팅 -> 아직 제대로 해결 못함..."
   ]
  },
  {
   "cell_type": "code",
   "execution_count": null,
   "metadata": {},
   "outputs": [],
   "source": [
    "from itertools import permutations\n",
    "from itertools import combinations\n",
    "\n",
    "class Solution:\n",
    "    def climbStairs(self, n: int) -> int:\n",
    "        if n % 2 == 1:\n",
    "            num = int(n / 2) + 1\n",
    "        else:\n",
    "            num = int(n / 2)\n",
    "        \n",
    "        a = []\n",
    "        for i in range(num):\n",
    "            a.append(2)\n",
    "        \n",
    "        count = 2\n",
    "        for i in range(num + 1, n):\n",
    "            # if i == num or i == n:\n",
    "            #     iters = combinations(a, len(a))\n",
    "            # else:\n",
    "            a.pop(0)\n",
    "            a += [1,1]\n",
    "            iters = permutations(a, len(a));\n",
    "            # print(list(iters))\n",
    "            count += int(len(list(iters))/2)\n",
    "        return count"
   ]
  }
 ],
 "metadata": {
  "kernelspec": {
   "display_name": "Python 3.8.8 ('base')",
   "language": "python",
   "name": "python3"
  },
  "language_info": {
   "name": "python",
   "version": "3.8.8"
  },
  "orig_nbformat": 4,
  "vscode": {
   "interpreter": {
    "hash": "842fcbab6f8b2e7ab180194bf63aeb5bc0c7a4f79325a6b05480df53dd555ba2"
   }
  }
 },
 "nbformat": 4,
 "nbformat_minor": 2
}
