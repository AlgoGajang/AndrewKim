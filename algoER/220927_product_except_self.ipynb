{
 "cells": [
  {
   "cell_type": "markdown",
   "metadata": {},
   "source": [
    "## 220927 Product of Array Except Self (LeetCode)\n",
    "- 본인 요소 제외하고 배열 내 전체 요소의 곱\n",
    "- 나누기 쓰면 안됨.\n",
    "\n",
    "\n",
    "### 최초 접근\n",
    "- itertools에서 combination 사용해보기. $O(1)$ 까지는 몰라도 $O(n)$ 까지는 그냥 나오겠지... \n",
    "- '전체 갯수-1'만큼의 combination 구해서 각 combination 값 곱하기? 웬지 $O(n)$ 넘어서는거 같긴한데..\n"
   ]
  },
  {
   "cell_type": "code",
   "execution_count": null,
   "metadata": {},
   "outputs": [],
   "source": [
    "from itertools import combinations\n",
    "\n",
    "class Solution:\n",
    "    def productExceptSelf(self, nums: List[int]) -> List[int]:\n",
    "        a = list(combinations(nums, len(nums)-1))\n",
    "        new = []\n",
    "        len_a = len(a)\n",
    "        for i in range(len_a, -1):\n",
    "            print(i)\n",
    "        #     b = 1\n",
    "        #     for elem2 in elem1:\n",
    "        #         # print(elem2)\n",
    "        #         b *= elem2\n",
    "        #     new.append(b)\n",
    "        # return new"
   ]
  }
 ],
 "metadata": {
  "kernelspec": {
   "display_name": "Python 3.8.8 ('base')",
   "language": "python",
   "name": "python3"
  },
  "language_info": {
   "name": "python",
   "version": "3.8.8"
  },
  "orig_nbformat": 4,
  "vscode": {
   "interpreter": {
    "hash": "842fcbab6f8b2e7ab180194bf63aeb5bc0c7a4f79325a6b05480df53dd555ba2"
   }
  }
 },
 "nbformat": 4,
 "nbformat_minor": 2
}
