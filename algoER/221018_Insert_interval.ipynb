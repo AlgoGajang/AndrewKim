{
 "cells": [
  {
   "cell_type": "markdown",
   "metadata": {},
   "source": [
    "## 221018 Insert interval (Leetcode)\n",
    "- 기존 interval'들' 있는 배열 있고, 새로운 new interval 있는데 그 interval이 치고 들어올때 어떻게 새로운 interval들 배열 만들어질 수 있는지?\n",
    "\n",
    "\n",
    "### 최초 접근\n",
    "- 일단 new interval의 0번째 요소를 기존 interval 중 1번째 요소와 비교.\n",
    "    - new interval의 0번째 요소가 기존 interval의 1번째 요소보다 클 경우는 new interval이 해당 interval 영역을 넘어선다는 거니까 기존 inteval은 결과 배열로 그대로 직행. 그리고 같은 작업을 반복. new interval의 0번째 요소를 다음 interval의 1번째 요소랑 비교 계속\n",
    "    - new interval의 0번째 요소가 기존 interval의 1번째 요소보다 같을 경우는 임시 interval 만들어서 기존 요소의 0 번째 요소를 임시 interval로 넣음. 그리고 1번째 요소로.\n",
    "    - new interval의 0번째 요소가 기존 interval의 1번째 요소보다 작을 경우는 기존 interval의 0번째 요소와 다시 숫자 비교. 그 영역 안에 있다는 거니까. 그래서 0번째 숫자끼리 비교해서 같으면 그값 쓰면 되는거고 어쨋든 작은 값을 임시 interval의 0번째 요소로 넣음. 그리고 1번째 요소 비교 시작\n",
    "- new interval의 1번째 요소를 그 다음 interval의 1번째 요소와 비교.\n",
    "    - new interval의 1번째 요소가 interval의 1번째 요소보다 클 경우는 다음 interval로 이동\n",
    "    - new interval의 1번째 요소가 interval의 1번째 요소와 같을 경우는 그 값을 임시 interval에 append하고 임시 interval을 결과 배열에 넣음.\n",
    "    - new interval의 1번째 요소가 interval의 1번째 요소와 작을 경우는 interval의 1번째 값을 임시 interval에 append하고 임시 interval을 결과 배열에 넣음.\n",
    "- 그 뒤로 남은 interval 있으면 그냥 결과 배열에 넣기.\n",
    "\n",
    "### 오류 1\n",
    "- 시간 초과..."
   ]
  }
 ],
 "metadata": {
  "kernelspec": {
   "display_name": "Python 3.8.8 ('base')",
   "language": "python",
   "name": "python3"
  },
  "language_info": {
   "name": "python",
   "version": "3.8.8"
  },
  "orig_nbformat": 4,
  "vscode": {
   "interpreter": {
    "hash": "842fcbab6f8b2e7ab180194bf63aeb5bc0c7a4f79325a6b05480df53dd555ba2"
   }
  }
 },
 "nbformat": 4,
 "nbformat_minor": 2
}
