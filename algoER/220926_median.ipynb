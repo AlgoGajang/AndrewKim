{
 "cells": [
  {
   "cell_type": "markdown",
   "metadata": {},
   "source": [
    "## 220926 Find Median from Data Stream (LeetCode)\n",
    "- 데이터 스트림에서 중간값 찾는 문제\n",
    "- 리스트에 값 더하는 메서드 있고 중간값 찾는 메서드 있고.\n",
    "- 중간값은 갯수가 홀수개일때는 중간값, 짝수개일때는 중앙값 두개의 평균값\n",
    "\n",
    "\n",
    "### 최초 접근\n",
    "- 이게 Hard? 너무 쉬운데??\n",
    "- 값 더해주는 메서드에서는 그냥 append해서 값 더해주기\n",
    "- 그리고 짝수, 홀수 조건문 걸어서 각 경우마다 중간값 주하도록\n",
    "\n",
    "### 오류 1\n",
    "한 번에 잘 될리가 없지... 처음에는 소팅 안걸어줘서 이상한값 나옴. \n",
    "> 삽질 1\n",
    "> - 중간값 찾아주는 메서드에서는 먼저 중간값 찾아야되니까 배열 소팅. sorted 메서드로 소팅\n",
    "\n",
    "### 오류 2\n",
    "중간값 찾을때마다 매번 소팅하다보니까 역시 시간초과문제...\n",
    "> 삽질 2\n",
    "> - 값 더해주는 메서드에서 소팅하도록 \n",
    "\n",
    "### 오류 3\n",
    "앞의 시간초과보다는 낫긴한데 그래도 여전히 시간초과... \n",
    "> 삽질 3\n",
    "> - 소팅 시간복잡도인 $O(nlog(n))$ 보다 더 낮은 시간복잡도 찾아야지.\n",
    "> - $O(log(n))$ 갖는 이진 탐색 이용해서 소팅하는 방향으로\n",
    "\n",
    "### 오류 4\n",
    "이진 탐색에서 시간 너무 많이 허비...\n",
    "> 삽질 4\n",
    "> - 나중에 이진탐색 공부 다시 해서 효율적으로 다시 짜기..\n",
    "\n",
    "### 오류 5\n",
    "이진탐색해서 배열에 값 소팅해서 넣을 때 처음에 값 하나도 없을때 인덱스 오류\n",
    "> 삽질 5\n",
    "> - 조건문 걸어서 값 없을 때 early return 하도록\n",
    "\n",
    "### 오류 6\n",
    "이진탐색도 넣고 이전에 append 메서드 써서 넣은거 중복되어 들어가서 값이 두개씩 추가되는 오류\n",
    "> 삽질 6\n",
    "> - 이전에 append 메서드 써서 값 추가한 부분 삭제\n",
    "\n",
    "### 오류 7\n",
    "이진탐색에서 탐색 위치값이랑 target값이랑 같은 edge 케이스 처리 안함\n",
    "> 삽질 7\n",
    "> - edge case 처리"
   ]
  },
  {
   "cell_type": "code",
   "execution_count": null,
   "metadata": {},
   "outputs": [],
   "source": [
    "def binary_search(li, num):\n",
    "    if len(li) == 0:\n",
    "        return [num]\n",
    "    init_pos = 0\n",
    "    last_pos = len(li) - 1\n",
    "    mid_pos = int((init_pos + last_pos) / 2)\n",
    "    while init_pos != mid_pos and last_pos != mid_pos and num != li[mid_pos]:\n",
    "        if num > li[mid_pos]:\n",
    "            init_pos = mid_pos\n",
    "        elif num < li[mid_pos]:\n",
    "            last_pos = mid_pos\n",
    "        mid_pos = int((init_pos + last_pos) / 2)\n",
    "    if num == li[mid_pos]:\n",
    "        li.insert(mid_pos, num)\n",
    "    elif num < li[init_pos]:\n",
    "        li.insert(init_pos, num)\n",
    "    elif num > li[last_pos]:\n",
    "        li.insert(last_pos+1, num)\n",
    "    else:\n",
    "        li.insert(init_pos+1, num)\n",
    "    return li\n",
    "\n",
    "\n",
    "class MedianFinder:\n",
    "    \n",
    "    def __init__(self):\n",
    "        self.temp_list = []\n",
    "\n",
    "    def addNum(self, num: int):\n",
    "        # self.temp_list.append(num)\n",
    "        self.temp_list = binary_search(self.temp_list, num)\n",
    "        # print(self.temp_list)\n",
    "\n",
    "    def findMedian(self):\n",
    "        list_len = len(self.temp_list)\n",
    "        if list_len % 2 == 1:\n",
    "            return self.temp_list[int(list_len / 2)]\n",
    "        elif list_len % 2 == 0:\n",
    "            return (self.temp_list[int(list_len / 2)] + self.temp_list[int(list_len / 2) - 1]) / 2"
   ]
  },
  {
   "cell_type": "markdown",
   "metadata": {},
   "source": [
    "### Neetcode solution\n",
    "heap 이용하는 문제였음.\n",
    "- heap 두개 이용해서 small heap / large heap 구성.\n",
    "- 두 heap 크기는 거의 비슷하게 구성해야됨. (짝수, 홀수 때문에) 1개 정도는 차이날 수 있는데 두개 이상 차이나지 않도록.\n",
    "- small heap은 max heap으로, large heap은 min heap. small heap의 최대값은 large heap의 최소값보다 작게 heap 배열을 구성\n",
    "- 위 두 가지 조건을 만족하도록 두 heap을 구성하고 small heap은 max heap과, large heap은 min heap\n",
    "- heap 쓰면 좋은게 일단 heap 구성할때(add, remove)는 $O(log n)$ 의 시간 복잡도를 갖는데 최소값이나 최대값을 찾을 때는 $O(1)$ 의 시간복잡도를 가지기에 일반 배열보다는 훨씬 유리한 부분 있음. "
   ]
  },
  {
   "cell_type": "code",
   "execution_count": null,
   "metadata": {},
   "outputs": [],
   "source": [
    "import heapq\n",
    "\n",
    "class MedianFinder:\n",
    "    \n",
    "    def __init__(self):\n",
    "        self.large_heap_list = []\n",
    "        self.small_heap_list = []\n",
    "    \n",
    "    def dealing_number(self):\n",
    "        large_heap = heapq.heapify(self.large_heap_list)\n",
    "        small_heap = heapq.heapify(self.small_heap_list)\n"
   ]
  }
 ],
 "metadata": {
  "kernelspec": {
   "display_name": "Python 3.8.8 ('base')",
   "language": "python",
   "name": "python3"
  },
  "language_info": {
   "name": "python",
   "version": "3.8.8"
  },
  "orig_nbformat": 4,
  "vscode": {
   "interpreter": {
    "hash": "842fcbab6f8b2e7ab180194bf63aeb5bc0c7a4f79325a6b05480df53dd555ba2"
   }
  }
 },
 "nbformat": 4,
 "nbformat_minor": 2
}
