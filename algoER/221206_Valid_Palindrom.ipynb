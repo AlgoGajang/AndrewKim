{
 "cells": [
  {
   "cell_type": "markdown",
   "metadata": {},
   "source": [
    "## 221206 Contains Duplicate (Leetcode)\n",
    "- 주어진 문자열이 회문이면 True, 아니면 False\n",
    "- 대문자 > 소문자 변환 시 기준\n",
    "- 특수문자는 해당없음\n",
    "\n",
    "\n",
    "### 최초 접근\n",
    "- 앞에서부터 세는 거랑 뒤에서부터 세는 변수 두 개 사용\n",
    "- 두 변수로 각각 슬라이싱한 문자가 같으면 그 문자 지우고 하는 식으로 \n",
    "- 글자 갯수가 홀수 일때는 1개 남았을 때, 짝수일때는 글자 갯수가 남지 않을 경우 회문이 되겠지\n",
    "\n",
    "\n",
    "### 오류 1\n",
    "찾는 도중에 문자열을 지우게 되면 반복문 돌릴 때 갯수에 문제 생길 수 있다.\n",
    "> 삽질 1\n",
    "> - 문자열 지우는 것이 아니라 회문 조건 만족하면 그냥 카운팅만 하는 것으로. 이 카운팅 한 것으로 반환 조건 만들어주면 될 것 같음\n",
    "\n",
    "### 오류 2\n",
    "알파벳 이외 특수문자일때 넘어가는 것 처리하는 것이 약간 까다롭다\n",
    "> 삽질 2\n",
    "> - 회문 판단 반복문 이전에 대문자 > 소문자 변환이랑 특수문자 필터링하는 반복문을 먼저 거치게한다\n",
    "\n",
    "### 오류 3\n",
    "빈 문자열일 경우 True값을 반환해야함\n",
    "> 삽질 3\n",
    "> - 회문 반복용으로 처리한 문자열 만든 바로 뒤에, 빈 문자열일때 True값을 반환하는 edge case 추가. 좋은 방법인 것 같지는 않다.\n",
    "\n",
    "### 오류 4\n",
    "회문 체크용 문자열에 알파벳 소문자 뿐만 아니라 숫자도 들어가야된다...\n",
    "> 삽질 4\n",
    "> - 숫자 체크 코드 추가"
   ]
  },
  {
   "cell_type": "code",
   "execution_count": null,
   "metadata": {},
   "outputs": [],
   "source": [
    "class Solution:\n",
    "    def isPalindrome(self, s: str) -> bool:\n",
    "\n",
    "        mani_s = \"\"\n",
    "        for ch in s:\n",
    "            temp = ch.lower()\n",
    "            if ord(temp) >= 97 and ord(temp) <= 122:\n",
    "                mani_s += ch.lower()\n",
    "            elif ord(temp) >= 48 and ord(temp) <= 57:\n",
    "                mani_s += ch.lower()\n",
    "        \n",
    "        if len(mani_s) == 0:\n",
    "            return True\n",
    "        elif len(s) == 1 and len(mani_s) == 1:\n",
    "            return True\n",
    "\n",
    "        count = 0\n",
    "        for i in range(len(mani_s)):\n",
    "            forw = mani_s[i]\n",
    "            back = mani_s[-(i+1)]\n",
    "            if forw != back:\n",
    "                return False\n",
    "            else:\n",
    "                if count >= len(mani_s)-1:\n",
    "                    return True\n",
    "                count += 2"
   ]
  }
 ],
 "metadata": {
  "kernelspec": {
   "display_name": "Python 3.8.8 ('base')",
   "language": "python",
   "name": "python3"
  },
  "language_info": {
   "name": "python",
   "version": "3.8.8"
  },
  "orig_nbformat": 4,
  "vscode": {
   "interpreter": {
    "hash": "842fcbab6f8b2e7ab180194bf63aeb5bc0c7a4f79325a6b05480df53dd555ba2"
   }
  }
 },
 "nbformat": 4,
 "nbformat_minor": 2
}
