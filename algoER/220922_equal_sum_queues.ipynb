{
 "cells": [
  {
   "cell_type": "markdown",
   "metadata": {},
   "source": [
    "220922 두 큐 합 같게 만들기(프로그래머스)\n",
    "- 큐 2개 주어짐\n",
    "- 두 큐에서 요소를 옮기면서 각 큐의 요소 합이 같도록\n",
    "- pop과 insert가 세트로 한 이동요소\n",
    "- 최소 이동하는 경우의 수\n",
    "\n",
    "최초 접근\n",
    "\n",
    "1. 각 큐의 합이 각 절반의 값이 되는 그런 값 경우의 수를 찾고, 그 배열의 숫자쌍을 갖도록 (완료)\n",
    "2. 두 큐 합친 새로운 배열 만들기 (완료)\n",
    "3. 배열 합 구한 뒤 나누기 2 해서 목표값 설정 (완료)\n",
    "4. 배열 내림차순으로 정리해서 pop으로 배열 내부 값 하나씩 빼오면서 계속 합 구해가면서 목표값 만들어보기 (완료)\n",
    "5. 아무리해도 목표값 안만들어지면 -1 반환 (완료)\n",
    "6. 목표값 만들어지면 목표값 만드는데 필요한 숫자들 index 필요할듯... 근데 30만개라서 쉽지는 않네...\n",
    "7. index 만들때 dictionary 해서 어느 큐에 있는지, 몇번째 인덱스인지 \n",
    "8. 큐는 따로 함수(?)로 만들면 될거같기도 하고..."
   ]
  },
  {
   "cell_type": "code",
   "execution_count": null,
   "metadata": {},
   "outputs": [],
   "source": [
    "def solution(queue1, queue2):\n",
    "    total_queue = queue1 + queue2\n",
    "    total_queue.sort(reverse=True)\n",
    "    target_sum = int(sum(total_queue) / 2)\n",
    "    \n",
    "    i = 0;\n",
    "    temp_arr = [];\n",
    "    sol_flag = False\n",
    "    while i < len(total_queue) :\n",
    "        if sum(temp_arr) + total_queue[i] < target_sum:\n",
    "            temp_arr.append(total_queue[i])\n",
    "        elif sum(temp_arr) + total_queue[i] == target_sum:\n",
    "            temp_arr.append(total_queue[i])\n",
    "            sol_flag = True\n",
    "            break\n",
    "        i += 1;\n",
    "        \n",
    "    if sol_flag == False:\n",
    "        return -1\n",
    "    return 0;"
   ]
  }
 ],
 "metadata": {
  "kernelspec": {
   "display_name": "Python 3.8.8 ('base')",
   "language": "python",
   "name": "python3"
  },
  "language_info": {
   "name": "python",
   "version": "3.8.8"
  },
  "orig_nbformat": 4,
  "vscode": {
   "interpreter": {
    "hash": "842fcbab6f8b2e7ab180194bf63aeb5bc0c7a4f79325a6b05480df53dd555ba2"
   }
  }
 },
 "nbformat": 4,
 "nbformat_minor": 2
}
