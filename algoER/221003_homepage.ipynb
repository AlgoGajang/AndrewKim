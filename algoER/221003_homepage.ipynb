{
 "cells": [
  {
   "cell_type": "markdown",
   "metadata": {},
   "source": [
    "## 221003 브라우저 뒤로 가기 앞으로 가기 (Codestates)\n",
    "- 페이지 알파벳 있고 1이면 앞으로 가기 -1이면 뒤로 가기 구현.\n",
    "\n",
    "\n",
    "### 최초 접근\n",
    "- 뒤로가기 할 때는 현재 페이지를 앞스택으로 넘기고 뒷페이지를 현재 페이지로.\n",
    "- 앞으로가기 할 때는 앞스택의 값을 현재로 넘기고 현재 페이지를 뒷스택으로.\n",
    "\n",
    "### 오류 1\n",
    "페이지 문자나 뒤로가기/앞으로가기 아닌 경우에는 early return되는 경우를 생각했는데 and랑 or를 잘못 생각함...\n",
    "> 삽질 1\n",
    "> - 처음에 or 조건으로 다 묶어놨는데 생각해보니까 이거 다 만족해야 early return되는 경우로 생각해야지. 그래서 and 조건으로 변경\n",
    "\n",
    "### 오류 2\n",
    "스택에서 현재 페이지로 값 넘겨줄 때 값을 빼주지 않아서 계속 쌓이기만 함\n",
    "> 삽질 2\n",
    "> - pop 메서드 이용해서 각 스택에서 값 빼줌.\n",
    "\n",
    "### 오류 3\n",
    "현재 페이지가 새로운 페이지로 넘어가는 경우에 앞스택에 값 있어서 오류\n",
    "> 삽질 3\n",
    "> - 아예 새로운 페이지로 넘어가게 되면 앞스택에 값이 없어져야해서 앞스택을 빈 배열로 초기화해주기\n",
    "\n",
    "### 오류 4\n",
    "오류까지는 아니고... pop쓰면 어차피 그 값 반환되니까 현재 페이지 값으로 바로 넘어주면 되겠지.\n",
    "> 삽질 4\n",
    "> - 해당 방향으로 리팩토링"
   ]
  },
  {
   "cell_type": "code",
   "execution_count": null,
   "metadata": {
    "vscode": {
     "languageId": "javascript"
    }
   },
   "outputs": [],
   "source": [
    "function browserStack(actions, start) {\n",
    "    // TODO: 여기에 코드를 작성합니다.\n",
    "    if (typeof start !== \"string\") {\n",
    "      return false;\n",
    "    }\n",
    "    let currPage = start;\n",
    "    let nextStack = [];\n",
    "    const prevStack = [];\n",
    "  \n",
    "    for (let action of actions) {\n",
    "      if (typeof action !== 'string' && action !== 1 && action !== -1){\n",
    "        return false;\n",
    "      }\n",
    "      if (action === 1 && nextStack.length !== 0) {\n",
    "        const nextLen = nextStack.length;\n",
    "        prevStack.push(currPage);\n",
    "        currPage = nextStack.pop();\n",
    "      }\n",
    "  \n",
    "      if (action === -1 && prevStack.length !== 0) {\n",
    "        const prevLen = prevStack.length;\n",
    "        nextStack.push(currPage);\n",
    "        currPage = prevStack.pop();\n",
    "      }\n",
    "  \n",
    "      if (typeof action === \"string\"){\n",
    "        if (action !== currPage) {\n",
    "          prevStack.push(currPage)\n",
    "          currPage = action;\n",
    "        }\n",
    "        if (nextStack.length !== 0) {\n",
    "            nextStack = [];\n",
    "        }\n",
    "      }\n",
    "    }\n",
    "  \n",
    "    return [prevStack, currPage, nextStack]\n",
    "    \n",
    "  }"
   ]
  }
 ],
 "metadata": {
  "kernelspec": {
   "display_name": "Python 3.8.8 ('base')",
   "language": "python",
   "name": "python3"
  },
  "language_info": {
   "name": "python",
   "version": "3.8.8"
  },
  "orig_nbformat": 4,
  "vscode": {
   "interpreter": {
    "hash": "842fcbab6f8b2e7ab180194bf63aeb5bc0c7a4f79325a6b05480df53dd555ba2"
   }
  }
 },
 "nbformat": 4,
 "nbformat_minor": 2
}
