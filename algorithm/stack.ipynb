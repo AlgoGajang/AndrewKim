{
 "cells": [
  {
   "cell_type": "markdown",
   "metadata": {},
   "source": [
    "## 스택\n",
    "\n",
    "배열의 끝에서만 데이터를 접근할 수 있는 선형 자료구조이다. 배열 인덱스 접근이 제한되고, 후입선출(`LIFO`, Last In First Out) 구조이다. 스택에서 사용하는 메서드는 아래와 같고 모두 $O(1)$의 시간복잡도를 가진다.\n",
    "\n",
    "- `push`: 스택 맨 끝(맨 위)에 항목을 삽입한다.\n",
    "- `pop`: 스택 맨 끝 항목을 반환하는 동시에 제거한다.\n",
    "- `top/peek`: 스택 맨 끝 항목을 조회한다.\n",
    "- `empty`: 스택이 비어있는지 확인한다.\n",
    "- `size`: 스택 크기를 확인한다.\n",
    "\n",
    "파이썬에서 빈번히 사용하는 `append()`와 `pop()` 메서드를 사용하여 스택을 구현할 수 있다.\n",
    "\n",
    "먼저 `Stack` 클래스를 생성한다. 생성자에서는 `items` 배열을 초기화한다."
   ]
  },
  {
   "cell_type": "code",
   "execution_count": 2,
   "metadata": {},
   "outputs": [],
   "source": [
    "class Stack(object):\n",
    "    def __init__(self):\n",
    "        self.items = []"
   ]
  },
  {
   "cell_type": "markdown",
   "metadata": {},
   "source": [
    "스택이 비어있는지 확인하는 `isEmpty` 메서드를 구현한다. 내장 함수인 `bool` 함수를 이용하자. 앞서 `Stack` 클래스에서 스택 배열로 선언했던 `items`배열에 값이 들어있다면 `bool(self.items)`는 참을 반환할 것이다. 비어있는지 확인하는 함수이므로 배열이 비어있으면 `true`를 반환해야한다. 따라서 `bool`함수 앞에 `not`을 붙여서 반대값을 반환하도록 구현하자. "
   ]
  },
  {
   "cell_type": "code",
   "execution_count": 1,
   "metadata": {},
   "outputs": [],
   "source": [
    "def isEmpty(self):\n",
    "    return not bool(self.items)"
   ]
  },
  {
   "cell_type": "markdown",
   "metadata": {},
   "source": [
    "요소를 리스트에 삽입하는 `push`는 간단하다. 매개 변수로 `value`를 받고, `append()` 메서드를 사용하여 `items` 배열에 삽입힌다."
   ]
  },
  {
   "cell_type": "code",
   "execution_count": 3,
   "metadata": {},
   "outputs": [],
   "source": [
    "def push(self, value):\n",
    "    self.items.append(value)"
   ]
  },
  {
   "cell_type": "markdown",
   "metadata": {},
   "source": [
    "요소를 제거하는 `pop`을 구현한다. `push`의 경우 특별히 앞뒤 따질 것 없이 그냥 값을 리스트에 삽입하는 것 뿐이었지만, `pop`의 경우는 `items` 배열이 비어있는지 요소가 있는지에 따라 경우를 나누어 주어야 한다."
   ]
  },
  {
   "cell_type": "code",
   "execution_count": 5,
   "metadata": {},
   "outputs": [],
   "source": [
    "def pop(self, value):\n",
    "    value = self.items.pop()\n",
    "    if value is not None:\n",
    "        return value\n",
    "    else:\n",
    "        print(\"Stack is empty\")"
   ]
  },
  {
   "cell_type": "markdown",
   "metadata": {},
   "source": [
    "스택의 크기를 구하는 `size`를 구현한다. 간단히 `len()` 메서드를 사용하면 구현이 가능하다."
   ]
  },
  {
   "cell_type": "code",
   "execution_count": 7,
   "metadata": {},
   "outputs": [],
   "source": [
    "def size(self):\n",
    "    return len(self.items)"
   ]
  },
  {
   "cell_type": "markdown",
   "metadata": {},
   "source": [
    "스택의 마지막 값을 출력하는 `peak/top`을 구현한다. 여기서는 `peak`으로 사용한다."
   ]
  },
  {
   "cell_type": "code",
   "execution_count": null,
   "metadata": {},
   "outputs": [],
   "source": [
    "def peek(self):\n",
    "        if self.items:\n",
    "            return self.items[-1]\n",
    "        else:\n",
    "            print(\"Stack is empty.\")    "
   ]
  },
  {
   "cell_type": "markdown",
   "metadata": {},
   "source": [
    "`print`문을 이용한 스택의 출력을 위해 `__repr__` 메서드를 오버로딩`overloading`한다."
   ]
  },
  {
   "cell_type": "code",
   "execution_count": null,
   "metadata": {},
   "outputs": [],
   "source": [
    "def __repr__(self):\n",
    "       return repr(self.items)"
   ]
  },
  {
   "cell_type": "markdown",
   "metadata": {},
   "source": [
    "앞서 선언한 클래스에 구현한 모든 메서드들을 종합하자."
   ]
  },
  {
   "cell_type": "code",
   "execution_count": 16,
   "metadata": {},
   "outputs": [
    {
     "name": "stdout",
     "output_type": "stream",
     "text": [
      "Is stack empty? - True\n",
      "Add number 0-9 on stack\n",
      "Size of stack: 10\n",
      "peak: 9\n",
      "pop: 9\n",
      "peak: 8\n",
      "Is stack empty? - False\n",
      "stack: [0, 1, 2, 3, 4, 5, 6, 7, 8]\n"
     ]
    }
   ],
   "source": [
    "class Stack(object):\n",
    "    def __init__(self):\n",
    "        self.items = []\n",
    "    \n",
    "    def isEmpty(self):\n",
    "        return not bool(self.items)\n",
    "    \n",
    "    def push(self, value):\n",
    "        self.items.append(value)\n",
    "\n",
    "    def pop(self):\n",
    "        value = self.items.pop()\n",
    "        if value is not None:\n",
    "            return value\n",
    "        else:\n",
    "            print(\"Stack is empty\")\n",
    "\n",
    "    def size(self):\n",
    "        return len(self.items)\n",
    "\n",
    "    def peek(self):\n",
    "        if self.items:\n",
    "            return self.items[-1]\n",
    "        else:\n",
    "            print(\"Stack is empty.\")    \n",
    "    \n",
    "    def __repr__(self):\n",
    "       return repr(self.items)\n",
    "\n",
    "stack = Stack();\n",
    "print(f\"Is stack empty? - {stack.isEmpty()}\")\n",
    "print(f\"Add number 0-9 on stack\")\n",
    "for i in range(10):\n",
    "    stack.push(i)\n",
    "print(f\"Size of stack: {stack.size()}\")\n",
    "print(f\"peek: {stack.peek()}\")\n",
    "print(f\"pop: {stack.pop()}\")\n",
    "print(f\"peek: {stack.peek()}\")\n",
    "print(f\"Is stack empty? - {stack.isEmpty()}\")\n",
    "print(f\"stack: {stack}\")"
   ]
  }
 ],
 "metadata": {
  "kernelspec": {
   "display_name": "Python 3.8.8 ('base')",
   "language": "python",
   "name": "python3"
  },
  "language_info": {
   "codemirror_mode": {
    "name": "ipython",
    "version": 3
   },
   "file_extension": ".py",
   "mimetype": "text/x-python",
   "name": "python",
   "nbconvert_exporter": "python",
   "pygments_lexer": "ipython3",
   "version": "3.8.8"
  },
  "orig_nbformat": 4,
  "vscode": {
   "interpreter": {
    "hash": "842fcbab6f8b2e7ab180194bf63aeb5bc0c7a4f79325a6b05480df53dd555ba2"
   }
  }
 },
 "nbformat": 4,
 "nbformat_minor": 2
}
